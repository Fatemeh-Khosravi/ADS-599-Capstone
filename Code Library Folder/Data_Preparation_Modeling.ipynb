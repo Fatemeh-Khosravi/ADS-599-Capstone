{
  "nbformat": 4,
  "nbformat_minor": 0,
  "metadata": {
    "colab": {
      "provenance": [],
      "machine_shape": "hm"
    },
    "kernelspec": {
      "name": "python3",
      "display_name": "Python 3"
    },
    "language_info": {
      "name": "python"
    }
  },
  "cells": [
    {
      "cell_type": "markdown",
      "source": [
        "## Data Preperation and Modeling\n",
        "\n",
        "Preperation\n",
        "\n",
        "* Set the Stage for Binary Classifier\n",
        "* Resizing Images\n",
        "* Data Handling\n",
        "* Balancing Data\n",
        "* Train Test Spliting\n",
        "* Data Augmentation\n",
        "\n",
        "Modeling\n",
        "\n",
        "* Neural Net Architecture\n",
        "* Model Training, 5 Fold Cross Validtion\n",
        "* Training/Validation Accuracy and Loss\n",
        "* Test Data Evaluation\n",
        " - Prdiction\n",
        " - Confusion Matrix\n",
        " - ROC Curve\n",
        " - ROC Curve Comparison"
      ],
      "metadata": {
        "id": "so_-RLTj5FQK"
      }
    },
    {
      "cell_type": "markdown",
      "source": [
        "### Import the Required Dependencies"
      ],
      "metadata": {
        "id": "pbyMY16l5Wig"
      }
    },
    {
      "cell_type": "code",
      "execution_count": null,
      "metadata": {
        "id": "d4196583"
      },
      "outputs": [],
      "source": [
        "import numpy as np\n",
        "import pandas as pd\n",
        "import matplotlib.pyplot as plt\n",
        "import seaborn as sns\n",
        "import tensorflow as tf\n",
        "from sklearn.metrics import confusion_matrix, classification_report\n",
        "from sklearn.model_selection import train_test_split\n",
        "from pathlib import Path\n",
        "import os.path\n",
        "import os\n",
        "import shutil\n",
        "from zipfile import ZipFile\n",
        "from tensorflow import keras\n",
        "from keras.preprocessing.image import ImageDataGenerator\n",
        "from keras import metrics\n",
        "from PIL import Image\n",
        "from tensorflow.keras.metrics import AUC\n",
        "from sklearn.datasets import make_classification\n",
        "from sklearn.preprocessing import label_binarize\n",
        "from sklearn.metrics import roc_curve\n",
        "from sklearn.metrics import auc\n",
        "from tensorflow.keras.datasets import cifar10\n",
        "from tensorflow.keras.models import Sequential\n",
        "from tensorflow.keras.layers import Dense, Flatten, Conv2D, MaxPooling2D\n",
        "from tensorflow.keras.losses import sparse_categorical_crossentropy\n",
        "from tensorflow.keras.optimizers import Adam\n",
        "from sklearn.model_selection import KFold\n",
        "from PIL import Image\n",
        "from tensorflow.python.keras.metrics import Metric\n",
        "from tensorflow.keras.metrics import AUC\n",
        "from sklearn.metrics import roc_auc_score"
      ]
    },
    {
      "cell_type": "code",
      "source": [
        "# Extract all the contents of zip file in current directory\n",
        "with ZipFile('Patients_CT.zip', 'r') as zipObj:\n",
        "   zipObj.extractall()"
      ],
      "metadata": {
        "id": "lni62yvItaL-"
      },
      "execution_count": null,
      "outputs": []
    },
    {
      "cell_type": "code",
      "source": [
        "# Read csv file\n",
        "df=pd.read_csv('Patients_CT/hemorrhage_diagnosis.csv')\n",
        "print(df.shape)\n",
        "df.head()"
      ],
      "metadata": {
        "colab": {
          "base_uri": "https://localhost:8080/",
          "height": 287
        },
        "id": "R8GhtQusA01r",
        "outputId": "f9d4a490-94d1-4fb9-8866-2ad34e524c68"
      },
      "execution_count": null,
      "outputs": [
        {
          "output_type": "stream",
          "name": "stdout",
          "text": [
            "(2501, 9)\n"
          ]
        },
        {
          "output_type": "execute_result",
          "data": {
            "text/plain": [
              "   PatientNumber  SliceNumber  Intraventricular  Intraparenchymal  \\\n",
              "0             49            1                 0                 0   \n",
              "1             49            2                 0                 0   \n",
              "2             49            3                 0                 0   \n",
              "3             49            4                 0                 0   \n",
              "4             49            5                 0                 0   \n",
              "\n",
              "   Subarachnoid  Epidural  Subdural  No_Hemorrhage  Fracture_Yes_No  \n",
              "0             0         0         0              1                0  \n",
              "1             0         0         0              1                0  \n",
              "2             0         0         0              1                0  \n",
              "3             0         0         0              1                0  \n",
              "4             0         0         0              1                0  "
            ],
            "text/html": [
              "\n",
              "\n",
              "  <div id=\"df-8d1f4e4c-4a2e-410b-adcb-7d89315c434a\">\n",
              "    <div class=\"colab-df-container\">\n",
              "      <div>\n",
              "<style scoped>\n",
              "    .dataframe tbody tr th:only-of-type {\n",
              "        vertical-align: middle;\n",
              "    }\n",
              "\n",
              "    .dataframe tbody tr th {\n",
              "        vertical-align: top;\n",
              "    }\n",
              "\n",
              "    .dataframe thead th {\n",
              "        text-align: right;\n",
              "    }\n",
              "</style>\n",
              "<table border=\"1\" class=\"dataframe\">\n",
              "  <thead>\n",
              "    <tr style=\"text-align: right;\">\n",
              "      <th></th>\n",
              "      <th>PatientNumber</th>\n",
              "      <th>SliceNumber</th>\n",
              "      <th>Intraventricular</th>\n",
              "      <th>Intraparenchymal</th>\n",
              "      <th>Subarachnoid</th>\n",
              "      <th>Epidural</th>\n",
              "      <th>Subdural</th>\n",
              "      <th>No_Hemorrhage</th>\n",
              "      <th>Fracture_Yes_No</th>\n",
              "    </tr>\n",
              "  </thead>\n",
              "  <tbody>\n",
              "    <tr>\n",
              "      <th>0</th>\n",
              "      <td>49</td>\n",
              "      <td>1</td>\n",
              "      <td>0</td>\n",
              "      <td>0</td>\n",
              "      <td>0</td>\n",
              "      <td>0</td>\n",
              "      <td>0</td>\n",
              "      <td>1</td>\n",
              "      <td>0</td>\n",
              "    </tr>\n",
              "    <tr>\n",
              "      <th>1</th>\n",
              "      <td>49</td>\n",
              "      <td>2</td>\n",
              "      <td>0</td>\n",
              "      <td>0</td>\n",
              "      <td>0</td>\n",
              "      <td>0</td>\n",
              "      <td>0</td>\n",
              "      <td>1</td>\n",
              "      <td>0</td>\n",
              "    </tr>\n",
              "    <tr>\n",
              "      <th>2</th>\n",
              "      <td>49</td>\n",
              "      <td>3</td>\n",
              "      <td>0</td>\n",
              "      <td>0</td>\n",
              "      <td>0</td>\n",
              "      <td>0</td>\n",
              "      <td>0</td>\n",
              "      <td>1</td>\n",
              "      <td>0</td>\n",
              "    </tr>\n",
              "    <tr>\n",
              "      <th>3</th>\n",
              "      <td>49</td>\n",
              "      <td>4</td>\n",
              "      <td>0</td>\n",
              "      <td>0</td>\n",
              "      <td>0</td>\n",
              "      <td>0</td>\n",
              "      <td>0</td>\n",
              "      <td>1</td>\n",
              "      <td>0</td>\n",
              "    </tr>\n",
              "    <tr>\n",
              "      <th>4</th>\n",
              "      <td>49</td>\n",
              "      <td>5</td>\n",
              "      <td>0</td>\n",
              "      <td>0</td>\n",
              "      <td>0</td>\n",
              "      <td>0</td>\n",
              "      <td>0</td>\n",
              "      <td>1</td>\n",
              "      <td>0</td>\n",
              "    </tr>\n",
              "  </tbody>\n",
              "</table>\n",
              "</div>\n",
              "      <button class=\"colab-df-convert\" onclick=\"convertToInteractive('df-8d1f4e4c-4a2e-410b-adcb-7d89315c434a')\"\n",
              "              title=\"Convert this dataframe to an interactive table.\"\n",
              "              style=\"display:none;\">\n",
              "\n",
              "  <svg xmlns=\"http://www.w3.org/2000/svg\" height=\"24px\"viewBox=\"0 0 24 24\"\n",
              "       width=\"24px\">\n",
              "    <path d=\"M0 0h24v24H0V0z\" fill=\"none\"/>\n",
              "    <path d=\"M18.56 5.44l.94 2.06.94-2.06 2.06-.94-2.06-.94-.94-2.06-.94 2.06-2.06.94zm-11 1L8.5 8.5l.94-2.06 2.06-.94-2.06-.94L8.5 2.5l-.94 2.06-2.06.94zm10 10l.94 2.06.94-2.06 2.06-.94-2.06-.94-.94-2.06-.94 2.06-2.06.94z\"/><path d=\"M17.41 7.96l-1.37-1.37c-.4-.4-.92-.59-1.43-.59-.52 0-1.04.2-1.43.59L10.3 9.45l-7.72 7.72c-.78.78-.78 2.05 0 2.83L4 21.41c.39.39.9.59 1.41.59.51 0 1.02-.2 1.41-.59l7.78-7.78 2.81-2.81c.8-.78.8-2.07 0-2.86zM5.41 20L4 18.59l7.72-7.72 1.47 1.35L5.41 20z\"/>\n",
              "  </svg>\n",
              "      </button>\n",
              "\n",
              "\n",
              "\n",
              "    <div id=\"df-d6ba1c06-7dd5-480d-b9f5-418a6b6b14f7\">\n",
              "      <button class=\"colab-df-quickchart\" onclick=\"quickchart('df-d6ba1c06-7dd5-480d-b9f5-418a6b6b14f7')\"\n",
              "              title=\"Suggest charts.\"\n",
              "              style=\"display:none;\">\n",
              "\n",
              "<svg xmlns=\"http://www.w3.org/2000/svg\" height=\"24px\"viewBox=\"0 0 24 24\"\n",
              "     width=\"24px\">\n",
              "    <g>\n",
              "        <path d=\"M19 3H5c-1.1 0-2 .9-2 2v14c0 1.1.9 2 2 2h14c1.1 0 2-.9 2-2V5c0-1.1-.9-2-2-2zM9 17H7v-7h2v7zm4 0h-2V7h2v10zm4 0h-2v-4h2v4z\"/>\n",
              "    </g>\n",
              "</svg>\n",
              "      </button>\n",
              "    </div>\n",
              "\n",
              "<style>\n",
              "  .colab-df-quickchart {\n",
              "    background-color: #E8F0FE;\n",
              "    border: none;\n",
              "    border-radius: 50%;\n",
              "    cursor: pointer;\n",
              "    display: none;\n",
              "    fill: #1967D2;\n",
              "    height: 32px;\n",
              "    padding: 0 0 0 0;\n",
              "    width: 32px;\n",
              "  }\n",
              "\n",
              "  .colab-df-quickchart:hover {\n",
              "    background-color: #E2EBFA;\n",
              "    box-shadow: 0px 1px 2px rgba(60, 64, 67, 0.3), 0px 1px 3px 1px rgba(60, 64, 67, 0.15);\n",
              "    fill: #174EA6;\n",
              "  }\n",
              "\n",
              "  [theme=dark] .colab-df-quickchart {\n",
              "    background-color: #3B4455;\n",
              "    fill: #D2E3FC;\n",
              "  }\n",
              "\n",
              "  [theme=dark] .colab-df-quickchart:hover {\n",
              "    background-color: #434B5C;\n",
              "    box-shadow: 0px 1px 3px 1px rgba(0, 0, 0, 0.15);\n",
              "    filter: drop-shadow(0px 1px 2px rgba(0, 0, 0, 0.3));\n",
              "    fill: #FFFFFF;\n",
              "  }\n",
              "</style>\n",
              "\n",
              "    <script>\n",
              "      async function quickchart(key) {\n",
              "        const containerElement = document.querySelector('#' + key);\n",
              "        const charts = await google.colab.kernel.invokeFunction(\n",
              "            'suggestCharts', [key], {});\n",
              "      }\n",
              "    </script>\n",
              "\n",
              "      <script>\n",
              "\n",
              "function displayQuickchartButton(domScope) {\n",
              "  let quickchartButtonEl =\n",
              "    domScope.querySelector('#df-d6ba1c06-7dd5-480d-b9f5-418a6b6b14f7 button.colab-df-quickchart');\n",
              "  quickchartButtonEl.style.display =\n",
              "    google.colab.kernel.accessAllowed ? 'block' : 'none';\n",
              "}\n",
              "\n",
              "        displayQuickchartButton(document);\n",
              "      </script>\n",
              "      <style>\n",
              "    .colab-df-container {\n",
              "      display:flex;\n",
              "      flex-wrap:wrap;\n",
              "      gap: 12px;\n",
              "    }\n",
              "\n",
              "    .colab-df-convert {\n",
              "      background-color: #E8F0FE;\n",
              "      border: none;\n",
              "      border-radius: 50%;\n",
              "      cursor: pointer;\n",
              "      display: none;\n",
              "      fill: #1967D2;\n",
              "      height: 32px;\n",
              "      padding: 0 0 0 0;\n",
              "      width: 32px;\n",
              "    }\n",
              "\n",
              "    .colab-df-convert:hover {\n",
              "      background-color: #E2EBFA;\n",
              "      box-shadow: 0px 1px 2px rgba(60, 64, 67, 0.3), 0px 1px 3px 1px rgba(60, 64, 67, 0.15);\n",
              "      fill: #174EA6;\n",
              "    }\n",
              "\n",
              "    [theme=dark] .colab-df-convert {\n",
              "      background-color: #3B4455;\n",
              "      fill: #D2E3FC;\n",
              "    }\n",
              "\n",
              "    [theme=dark] .colab-df-convert:hover {\n",
              "      background-color: #434B5C;\n",
              "      box-shadow: 0px 1px 3px 1px rgba(0, 0, 0, 0.15);\n",
              "      filter: drop-shadow(0px 1px 2px rgba(0, 0, 0, 0.3));\n",
              "      fill: #FFFFFF;\n",
              "    }\n",
              "  </style>\n",
              "\n",
              "      <script>\n",
              "        const buttonEl =\n",
              "          document.querySelector('#df-8d1f4e4c-4a2e-410b-adcb-7d89315c434a button.colab-df-convert');\n",
              "        buttonEl.style.display =\n",
              "          google.colab.kernel.accessAllowed ? 'block' : 'none';\n",
              "\n",
              "        async function convertToInteractive(key) {\n",
              "          const element = document.querySelector('#df-8d1f4e4c-4a2e-410b-adcb-7d89315c434a');\n",
              "          const dataTable =\n",
              "            await google.colab.kernel.invokeFunction('convertToInteractive',\n",
              "                                                     [key], {});\n",
              "          if (!dataTable) return;\n",
              "\n",
              "          const docLinkHtml = 'Like what you see? Visit the ' +\n",
              "            '<a target=\"_blank\" href=https://colab.research.google.com/notebooks/data_table.ipynb>data table notebook</a>'\n",
              "            + ' to learn more about interactive tables.';\n",
              "          element.innerHTML = '';\n",
              "          dataTable['output_type'] = 'display_data';\n",
              "          await google.colab.output.renderOutput(dataTable, element);\n",
              "          const docLink = document.createElement('div');\n",
              "          docLink.innerHTML = docLinkHtml;\n",
              "          element.appendChild(docLink);\n",
              "        }\n",
              "      </script>\n",
              "    </div>\n",
              "  </div>\n"
            ]
          },
          "metadata": {},
          "execution_count": 3
        }
      ]
    },
    {
      "cell_type": "markdown",
      "source": [
        "## Set the Stage for Binary Classifier  \n",
        "This code snippet serves the purpose of sorting and classifying CT images into distinct folders depending on their labels (0 or 1) by utilizing data from a CSV file. It not only guarantees the presence of the intended destination folders but also manages the image copying process to ensure accurate arrangement."
      ],
      "metadata": {
        "id": "50B98sON5p4M"
      }
    },
    {
      "cell_type": "code",
      "source": [
        "# Function to create a folder if it doesn't exist\n",
        "def create_folder_if_not_exists(folder_path):\n",
        "    if not os.path.exists(folder_path):\n",
        "        os.makedirs(folder_path)\n",
        "\n",
        "# Function to copy images to their respective folders\n",
        "def copy_images(csv_file, folder_0, folder_1):\n",
        "    df = pd.read_csv(csv_file )\n",
        "    df['Image'] = \"/content/Patients_CT/\"+df.iloc[:, 0].astype(str) + '/brain/'+ df.iloc[:, 1].astype(str)+'.jpg'\n",
        "\n",
        "    # Create destination folders if they don't exist\n",
        "    create_folder_if_not_exists(folder_0)\n",
        "    create_folder_if_not_exists(folder_1)\n",
        "\n",
        "    # Loop through each row in the CSV and copy images to appropriate folders\n",
        "    for index, row in df.iterrows():\n",
        "        image_name = row['Image']\n",
        "\n",
        "        label = row['No_Hemorrhage']\n",
        "\n",
        "        source_path = os.path.join(image_name)\n",
        "        aux = image_name.split('/')[-3:]\n",
        "        des = \"\"\n",
        "        for i in aux:\n",
        "            des += i\n",
        "        if label == 0:\n",
        "            destination_path = os.path.join(folder_0, des)\n",
        "        elif label == 1:\n",
        "            destination_path = os.path.join(folder_1, des)\n",
        "        else:\n",
        "            # Skip if the label is not 0 or 1\n",
        "            continue\n",
        "\n",
        "        # Copy the image to the respective folder\n",
        "        shutil.copy(image_name, destination_path)\n",
        "\n",
        "# Set the paths and filenames\n",
        "csv_file = \"/content/Patients_CT/hemorrhage_diagnosis.csv\"\n",
        "folder_0 = \"folder_for_label_0\"\n",
        "folder_1 = \"folder_for_label_1\"\n",
        "\n",
        "# Call the function to copy the images\n",
        "copy_images(csv_file, folder_0, folder_1)"
      ],
      "metadata": {
        "id": "WxHN4y128_V6"
      },
      "execution_count": null,
      "outputs": []
    },
    {
      "cell_type": "code",
      "source": [
        "# Number of images with hemorrhage\n",
        "folder_hemo = os.listdir('folder_for_label_0')\n",
        "\n",
        "# Number of images without hemorrhage\n",
        "folder_no_hemo = os.listdir('folder_for_label_1')\n",
        "\n",
        "print( 'Number of images with hemorrhage is:',len(folder_hemo))\n",
        "print( 'Number of images without hemorrhage is:',len(folder_no_hemo))"
      ],
      "metadata": {
        "colab": {
          "base_uri": "https://localhost:8080/"
        },
        "id": "OzKuyo2v9Cvq",
        "outputId": "31b094dc-cb40-49c7-cae2-a9886855c4e1"
      },
      "execution_count": null,
      "outputs": [
        {
          "output_type": "stream",
          "name": "stdout",
          "text": [
            "Number of images with hemorrhage is: 318\n",
            "Number of images without hemorrhage is: 2183\n"
          ]
        }
      ]
    },
    {
      "cell_type": "markdown",
      "source": [
        "## Control Room"
      ],
      "metadata": {
        "id": "rqHKePpV6CC6"
      }
    },
    {
      "cell_type": "code",
      "source": [
        "Image_Width = 128\n",
        "Image_Height = 128\n",
        "Image_Size = (Image_Width,Image_Height)\n",
        "Image_Channels = 1\n",
        "nonhemorrhage = Path('/content/folder_for_label_1/')\n",
        "hemorrhage = Path('/content/folder_for_label_0/')\n",
        "num_epochs = 20\n"
      ],
      "metadata": {
        "id": "OJb5slxE9LU-"
      },
      "execution_count": null,
      "outputs": []
    },
    {
      "cell_type": "markdown",
      "source": [
        "### Resizing Images\n",
        "This code snippet allows users to provide a folder containing images and specify a target width and height for resizing those images. The script then iterates through each image in the folder, resizes it to the provided dimensions while applying anti-aliasing, and saves the resized image, effectively replacing the original image. Images resized from 650 * 650 pixels to 128 * 128 pixels."
      ],
      "metadata": {
        "id": "kyr6mtOQ6GaF"
      }
    },
    {
      "cell_type": "code",
      "source": [
        "print(\"Shrink images in the folder\")\n",
        "folder = input(\"folder: \")\n",
        "w = int(input(\"width: \"))\n",
        "h = int(input(\"height: \"))\n",
        "for i in os.listdir(folder):\n",
        "    file = f\"{folder}/{i}\"\n",
        "    im = Image.open(file)\n",
        "    im = im.resize((w, h), Image.ANTIALIAS)\n",
        "    im.save(file)"
      ],
      "metadata": {
        "colab": {
          "base_uri": "https://localhost:8080/"
        },
        "id": "8zxJlLcMklcB",
        "outputId": "31ff704d-f86d-46bf-9f55-9df5565ce1e8"
      },
      "execution_count": null,
      "outputs": [
        {
          "name": "stdout",
          "output_type": "stream",
          "text": [
            "Shrink images in the folder\n",
            "folder: /content/folder_for_label_0\n",
            "width: 128\n",
            "height: 128\n"
          ]
        },
        {
          "output_type": "stream",
          "name": "stderr",
          "text": [
            "<ipython-input-7-08c4f6fbf8b7>:8: DeprecationWarning: ANTIALIAS is deprecated and will be removed in Pillow 10 (2023-07-01). Use LANCZOS or Resampling.LANCZOS instead.\n",
            "  im = im.resize((w, h), Image.ANTIALIAS)\n"
          ]
        }
      ]
    },
    {
      "cell_type": "code",
      "source": [
        "print(\"Shrink images in the folder\")\n",
        "folder = input(\"folder: \")\n",
        "w = int(input(\"width: \"))\n",
        "h = int(input(\"height: \"))\n",
        "for i in os.listdir(folder):\n",
        "    file = f\"{folder}/{i}\"\n",
        "    im = Image.open(file)\n",
        "    im = im.resize((w, h), Image.ANTIALIAS)\n",
        "    im.save(file)"
      ],
      "metadata": {
        "colab": {
          "base_uri": "https://localhost:8080/"
        },
        "id": "TxHjcNyQyXJV",
        "outputId": "d7908d2c-e695-42ef-d84a-b1b3698b0def"
      },
      "execution_count": null,
      "outputs": [
        {
          "name": "stdout",
          "output_type": "stream",
          "text": [
            "Shrink images in the folder\n",
            "folder: /content/folder_for_label_1\n",
            "width: 128\n",
            "height: 128\n"
          ]
        },
        {
          "output_type": "stream",
          "name": "stderr",
          "text": [
            "<ipython-input-9-08c4f6fbf8b7>:8: DeprecationWarning: ANTIALIAS is deprecated and will be removed in Pillow 10 (2023-07-01). Use LANCZOS or Resampling.LANCZOS instead.\n",
            "  im = im.resize((w, h), Image.ANTIALIAS)\n"
          ]
        }
      ]
    },
    {
      "cell_type": "markdown",
      "source": [
        "## Data Handling\n",
        "This code snippet prepares and structures CT image file paths and corresponding labels into a consolidated DataFrame for further analysis. We now possess a DataFrame that comprises the file paths of CT images as rows along with their corresponding labels."
      ],
      "metadata": {
        "id": "SgsndEUb7Pxx"
      }
    },
    {
      "cell_type": "code",
      "source": [
        "nonhemorrhage = Path('/content/folder_for_label_1/')\n",
        "hemorrhage = Path('/content/folder_for_label_0/')\n",
        "\n",
        "# Find all the non hemorrhage pathnames matching .jpg\n",
        "nonhemorrhage_filepaths = list(nonhemorrhage.glob('**/*.jpg'))\n",
        "\n",
        "# Create a list of labels for a set of file paths related to non-hemorrhage cases\n",
        "nonhemorrhage_labels = list(map(lambda x : 'nonhemorrhage', nonhemorrhage_filepaths))\n",
        "\n",
        "# Convert the nonhemorrhage_filepaths list into a pandas Series with the name 'Filepath'\n",
        "nonhemorrhage_filepaths = pd.Series(nonhemorrhage_filepaths , name = 'Filepath').astype(str)\n",
        "\n",
        "# Convert the nonhemorrhage_labels list into a pandas Series with the name 'Label'\n",
        "nonhemorrhage_labels = pd.Series(nonhemorrhage_labels, name = 'Label')\n",
        "\n",
        "# Creates a new DataFrame called nonhemorrhage_df\n",
        "nonhemorrhage_df = pd.concat([nonhemorrhage_filepaths, nonhemorrhage_labels], axis = 1)\n",
        "\n",
        "# Find all the hemorrhage pathnames matching .jpg\n",
        "hemorrhage_filepaths = list(hemorrhage.glob('**/*.jpg'))\n",
        "\n",
        "# Create a list of labels for a set of file paths related to hemorrhage cases\n",
        "hemorrhage_labels = list(map(lambda x : 'hemorrhage', hemorrhage_filepaths))\n",
        "\n",
        "# Convert the hemorrhage_filepaths list into a pandas Series with the name 'Filepath'\n",
        "hemorrhage_filepaths = pd.Series(hemorrhage_filepaths, name = 'Filepath').astype(str)\n",
        "\n",
        "# Convert the hemorrhage_labels list into a pandas Series with the name 'Label'\n",
        "hemorrhage_labels = pd.Series(hemorrhage_labels, name = 'Label')\n",
        "\n",
        "# Creates a new DataFrame called hemorrhage_df\n",
        "hemorrhage_df = pd.concat([hemorrhage_filepaths, hemorrhage_labels], axis = 1)\n",
        "\n",
        "# Creates a new DataFrame called image_df\n",
        "image_df = pd.concat([hemorrhage_df, nonhemorrhage_df])\n",
        "print(image_df.shape)\n",
        "image_df.sample(10)"
      ],
      "metadata": {
        "colab": {
          "base_uri": "https://localhost:8080/",
          "height": 380
        },
        "id": "Ne-GgQ28OWS6",
        "outputId": "cdc701b5-6c1d-4b2c-914d-2a6f48057673"
      },
      "execution_count": null,
      "outputs": [
        {
          "output_type": "stream",
          "name": "stdout",
          "text": [
            "(2501, 2)\n"
          ]
        },
        {
          "output_type": "execute_result",
          "data": {
            "text/plain": [
              "                                        Filepath          Label\n",
              "1238  /content/folder_for_label_1/107brain28.jpg  nonhemorrhage\n",
              "1007    /content/folder_for_label_1/97brain5.jpg  nonhemorrhage\n",
              "1613  /content/folder_for_label_1/118brain20.jpg  nonhemorrhage\n",
              "1516    /content/folder_for_label_1/67brain4.jpg  nonhemorrhage\n",
              "324    /content/folder_for_label_1/73brain12.jpg  nonhemorrhage\n",
              "281    /content/folder_for_label_0/76brain16.jpg     hemorrhage\n",
              "1328    /content/folder_for_label_1/78brain5.jpg  nonhemorrhage\n",
              "1159  /content/folder_for_label_1/106brain18.jpg  nonhemorrhage\n",
              "1606   /content/folder_for_label_1/98brain15.jpg  nonhemorrhage\n",
              "651   /content/folder_for_label_1/128brain14.jpg  nonhemorrhage"
            ],
            "text/html": [
              "\n",
              "\n",
              "  <div id=\"df-1f120b8c-f123-41c8-bfbd-137df13cf617\">\n",
              "    <div class=\"colab-df-container\">\n",
              "      <div>\n",
              "<style scoped>\n",
              "    .dataframe tbody tr th:only-of-type {\n",
              "        vertical-align: middle;\n",
              "    }\n",
              "\n",
              "    .dataframe tbody tr th {\n",
              "        vertical-align: top;\n",
              "    }\n",
              "\n",
              "    .dataframe thead th {\n",
              "        text-align: right;\n",
              "    }\n",
              "</style>\n",
              "<table border=\"1\" class=\"dataframe\">\n",
              "  <thead>\n",
              "    <tr style=\"text-align: right;\">\n",
              "      <th></th>\n",
              "      <th>Filepath</th>\n",
              "      <th>Label</th>\n",
              "    </tr>\n",
              "  </thead>\n",
              "  <tbody>\n",
              "    <tr>\n",
              "      <th>1238</th>\n",
              "      <td>/content/folder_for_label_1/107brain28.jpg</td>\n",
              "      <td>nonhemorrhage</td>\n",
              "    </tr>\n",
              "    <tr>\n",
              "      <th>1007</th>\n",
              "      <td>/content/folder_for_label_1/97brain5.jpg</td>\n",
              "      <td>nonhemorrhage</td>\n",
              "    </tr>\n",
              "    <tr>\n",
              "      <th>1613</th>\n",
              "      <td>/content/folder_for_label_1/118brain20.jpg</td>\n",
              "      <td>nonhemorrhage</td>\n",
              "    </tr>\n",
              "    <tr>\n",
              "      <th>1516</th>\n",
              "      <td>/content/folder_for_label_1/67brain4.jpg</td>\n",
              "      <td>nonhemorrhage</td>\n",
              "    </tr>\n",
              "    <tr>\n",
              "      <th>324</th>\n",
              "      <td>/content/folder_for_label_1/73brain12.jpg</td>\n",
              "      <td>nonhemorrhage</td>\n",
              "    </tr>\n",
              "    <tr>\n",
              "      <th>281</th>\n",
              "      <td>/content/folder_for_label_0/76brain16.jpg</td>\n",
              "      <td>hemorrhage</td>\n",
              "    </tr>\n",
              "    <tr>\n",
              "      <th>1328</th>\n",
              "      <td>/content/folder_for_label_1/78brain5.jpg</td>\n",
              "      <td>nonhemorrhage</td>\n",
              "    </tr>\n",
              "    <tr>\n",
              "      <th>1159</th>\n",
              "      <td>/content/folder_for_label_1/106brain18.jpg</td>\n",
              "      <td>nonhemorrhage</td>\n",
              "    </tr>\n",
              "    <tr>\n",
              "      <th>1606</th>\n",
              "      <td>/content/folder_for_label_1/98brain15.jpg</td>\n",
              "      <td>nonhemorrhage</td>\n",
              "    </tr>\n",
              "    <tr>\n",
              "      <th>651</th>\n",
              "      <td>/content/folder_for_label_1/128brain14.jpg</td>\n",
              "      <td>nonhemorrhage</td>\n",
              "    </tr>\n",
              "  </tbody>\n",
              "</table>\n",
              "</div>\n",
              "      <button class=\"colab-df-convert\" onclick=\"convertToInteractive('df-1f120b8c-f123-41c8-bfbd-137df13cf617')\"\n",
              "              title=\"Convert this dataframe to an interactive table.\"\n",
              "              style=\"display:none;\">\n",
              "\n",
              "  <svg xmlns=\"http://www.w3.org/2000/svg\" height=\"24px\"viewBox=\"0 0 24 24\"\n",
              "       width=\"24px\">\n",
              "    <path d=\"M0 0h24v24H0V0z\" fill=\"none\"/>\n",
              "    <path d=\"M18.56 5.44l.94 2.06.94-2.06 2.06-.94-2.06-.94-.94-2.06-.94 2.06-2.06.94zm-11 1L8.5 8.5l.94-2.06 2.06-.94-2.06-.94L8.5 2.5l-.94 2.06-2.06.94zm10 10l.94 2.06.94-2.06 2.06-.94-2.06-.94-.94-2.06-.94 2.06-2.06.94z\"/><path d=\"M17.41 7.96l-1.37-1.37c-.4-.4-.92-.59-1.43-.59-.52 0-1.04.2-1.43.59L10.3 9.45l-7.72 7.72c-.78.78-.78 2.05 0 2.83L4 21.41c.39.39.9.59 1.41.59.51 0 1.02-.2 1.41-.59l7.78-7.78 2.81-2.81c.8-.78.8-2.07 0-2.86zM5.41 20L4 18.59l7.72-7.72 1.47 1.35L5.41 20z\"/>\n",
              "  </svg>\n",
              "      </button>\n",
              "\n",
              "\n",
              "\n",
              "    <div id=\"df-b3ffe222-4ece-4bfd-9a6b-2f788a1765f2\">\n",
              "      <button class=\"colab-df-quickchart\" onclick=\"quickchart('df-b3ffe222-4ece-4bfd-9a6b-2f788a1765f2')\"\n",
              "              title=\"Suggest charts.\"\n",
              "              style=\"display:none;\">\n",
              "\n",
              "<svg xmlns=\"http://www.w3.org/2000/svg\" height=\"24px\"viewBox=\"0 0 24 24\"\n",
              "     width=\"24px\">\n",
              "    <g>\n",
              "        <path d=\"M19 3H5c-1.1 0-2 .9-2 2v14c0 1.1.9 2 2 2h14c1.1 0 2-.9 2-2V5c0-1.1-.9-2-2-2zM9 17H7v-7h2v7zm4 0h-2V7h2v10zm4 0h-2v-4h2v4z\"/>\n",
              "    </g>\n",
              "</svg>\n",
              "      </button>\n",
              "    </div>\n",
              "\n",
              "<style>\n",
              "  .colab-df-quickchart {\n",
              "    background-color: #E8F0FE;\n",
              "    border: none;\n",
              "    border-radius: 50%;\n",
              "    cursor: pointer;\n",
              "    display: none;\n",
              "    fill: #1967D2;\n",
              "    height: 32px;\n",
              "    padding: 0 0 0 0;\n",
              "    width: 32px;\n",
              "  }\n",
              "\n",
              "  .colab-df-quickchart:hover {\n",
              "    background-color: #E2EBFA;\n",
              "    box-shadow: 0px 1px 2px rgba(60, 64, 67, 0.3), 0px 1px 3px 1px rgba(60, 64, 67, 0.15);\n",
              "    fill: #174EA6;\n",
              "  }\n",
              "\n",
              "  [theme=dark] .colab-df-quickchart {\n",
              "    background-color: #3B4455;\n",
              "    fill: #D2E3FC;\n",
              "  }\n",
              "\n",
              "  [theme=dark] .colab-df-quickchart:hover {\n",
              "    background-color: #434B5C;\n",
              "    box-shadow: 0px 1px 3px 1px rgba(0, 0, 0, 0.15);\n",
              "    filter: drop-shadow(0px 1px 2px rgba(0, 0, 0, 0.3));\n",
              "    fill: #FFFFFF;\n",
              "  }\n",
              "</style>\n",
              "\n",
              "    <script>\n",
              "      async function quickchart(key) {\n",
              "        const containerElement = document.querySelector('#' + key);\n",
              "        const charts = await google.colab.kernel.invokeFunction(\n",
              "            'suggestCharts', [key], {});\n",
              "      }\n",
              "    </script>\n",
              "\n",
              "      <script>\n",
              "\n",
              "function displayQuickchartButton(domScope) {\n",
              "  let quickchartButtonEl =\n",
              "    domScope.querySelector('#df-b3ffe222-4ece-4bfd-9a6b-2f788a1765f2 button.colab-df-quickchart');\n",
              "  quickchartButtonEl.style.display =\n",
              "    google.colab.kernel.accessAllowed ? 'block' : 'none';\n",
              "}\n",
              "\n",
              "        displayQuickchartButton(document);\n",
              "      </script>\n",
              "      <style>\n",
              "    .colab-df-container {\n",
              "      display:flex;\n",
              "      flex-wrap:wrap;\n",
              "      gap: 12px;\n",
              "    }\n",
              "\n",
              "    .colab-df-convert {\n",
              "      background-color: #E8F0FE;\n",
              "      border: none;\n",
              "      border-radius: 50%;\n",
              "      cursor: pointer;\n",
              "      display: none;\n",
              "      fill: #1967D2;\n",
              "      height: 32px;\n",
              "      padding: 0 0 0 0;\n",
              "      width: 32px;\n",
              "    }\n",
              "\n",
              "    .colab-df-convert:hover {\n",
              "      background-color: #E2EBFA;\n",
              "      box-shadow: 0px 1px 2px rgba(60, 64, 67, 0.3), 0px 1px 3px 1px rgba(60, 64, 67, 0.15);\n",
              "      fill: #174EA6;\n",
              "    }\n",
              "\n",
              "    [theme=dark] .colab-df-convert {\n",
              "      background-color: #3B4455;\n",
              "      fill: #D2E3FC;\n",
              "    }\n",
              "\n",
              "    [theme=dark] .colab-df-convert:hover {\n",
              "      background-color: #434B5C;\n",
              "      box-shadow: 0px 1px 3px 1px rgba(0, 0, 0, 0.15);\n",
              "      filter: drop-shadow(0px 1px 2px rgba(0, 0, 0, 0.3));\n",
              "      fill: #FFFFFF;\n",
              "    }\n",
              "  </style>\n",
              "\n",
              "      <script>\n",
              "        const buttonEl =\n",
              "          document.querySelector('#df-1f120b8c-f123-41c8-bfbd-137df13cf617 button.colab-df-convert');\n",
              "        buttonEl.style.display =\n",
              "          google.colab.kernel.accessAllowed ? 'block' : 'none';\n",
              "\n",
              "        async function convertToInteractive(key) {\n",
              "          const element = document.querySelector('#df-1f120b8c-f123-41c8-bfbd-137df13cf617');\n",
              "          const dataTable =\n",
              "            await google.colab.kernel.invokeFunction('convertToInteractive',\n",
              "                                                     [key], {});\n",
              "          if (!dataTable) return;\n",
              "\n",
              "          const docLinkHtml = 'Like what you see? Visit the ' +\n",
              "            '<a target=\"_blank\" href=https://colab.research.google.com/notebooks/data_table.ipynb>data table notebook</a>'\n",
              "            + ' to learn more about interactive tables.';\n",
              "          element.innerHTML = '';\n",
              "          dataTable['output_type'] = 'display_data';\n",
              "          await google.colab.output.renderOutput(dataTable, element);\n",
              "          const docLink = document.createElement('div');\n",
              "          docLink.innerHTML = docLinkHtml;\n",
              "          element.appendChild(docLink);\n",
              "        }\n",
              "      </script>\n",
              "    </div>\n",
              "  </div>\n"
            ]
          },
          "metadata": {},
          "execution_count": 10
        }
      ]
    },
    {
      "cell_type": "code",
      "source": [
        "# Check the hemorrhage distribution\n",
        "image_df['Label'].value_counts()"
      ],
      "metadata": {
        "colab": {
          "base_uri": "https://localhost:8080/"
        },
        "id": "eReyRudN9UNd",
        "outputId": "fc6877c5-bb62-43e5-ccd8-a19ab8d0f658"
      },
      "execution_count": null,
      "outputs": [
        {
          "output_type": "execute_result",
          "data": {
            "text/plain": [
              "nonhemorrhage    2183\n",
              "hemorrhage        318\n",
              "Name: Label, dtype: int64"
            ]
          },
          "metadata": {},
          "execution_count": 11
        }
      ]
    },
    {
      "cell_type": "markdown",
      "source": [
        "## Balancing Data\n",
        " This code snippet prepares a balanced dataset for training a binary classification model. It combines hemorrhage cases with a subset of non-hemorrhage cases (20%) to achieve a balanced representation of both classes. The dataset is shuffled for randomness before further processing or model training. The balanced dataset consists of 755 images with 437 non hemorrhage cases and 318 hemorrhage cases."
      ],
      "metadata": {
        "id": "zhOZWjmB7jqy"
      }
    },
    {
      "cell_type": "code",
      "source": [
        "# Hemorrhage cases\n",
        "image_df_hemo = image_df[image_df['Label'] == 'hemorrhage']\n",
        "# Non-hemorrhage cases\n",
        "image_df_nonhemo = image_df[image_df['Label'] == 'nonhemorrhage']\n",
        "# Subset of non-hemorrhage image data\n",
        "sampled_image_df_nonhemo = image_df_nonhemo.sample(frac=0.2)\n",
        "# Create balanced dataset\n",
        "image_df = pd.concat([image_df_hemo, sampled_image_df_nonhemo], ignore_index=True)\n",
        "image_df = image_df.sample(frac=1 ).reset_index(drop=True)"
      ],
      "metadata": {
        "id": "0yKxZTI9kJK6"
      },
      "execution_count": null,
      "outputs": []
    },
    {
      "cell_type": "code",
      "source": [
        "# Size of the balanced data frame\n",
        "print(image_df.shape)"
      ],
      "metadata": {
        "colab": {
          "base_uri": "https://localhost:8080/"
        },
        "id": "RyXZund_kLFw",
        "outputId": "fc13baa4-d40e-4016-ee7e-cd25fa428596"
      },
      "execution_count": null,
      "outputs": [
        {
          "output_type": "stream",
          "name": "stdout",
          "text": [
            "(755, 2)\n"
          ]
        }
      ]
    },
    {
      "cell_type": "code",
      "source": [
        "# Check the class\n",
        "image_df['Label'].value_counts()"
      ],
      "metadata": {
        "colab": {
          "base_uri": "https://localhost:8080/"
        },
        "id": "GXFR7AOCkvYi",
        "outputId": "0ebd3800-e255-4676-a7c4-b2f9eb290d46"
      },
      "execution_count": null,
      "outputs": [
        {
          "output_type": "execute_result",
          "data": {
            "text/plain": [
              "nonhemorrhage    437\n",
              "hemorrhage       318\n",
              "Name: Label, dtype: int64"
            ]
          },
          "metadata": {},
          "execution_count": 14
        }
      ]
    },
    {
      "cell_type": "markdown",
      "source": [
        "## Train Test Spliting\n",
        "The training set, which comprised 80% of the data and is employed for model training, and the test set, representing 20% of the data, which is reserved for performance evaluation. Additionally, during the augmentation process, a validation subset, amounting to approximately 20% of the training data, is set aside. This validation data played a vital role in evaluating the model's performance throughout the training phase, aiding in the identification of potential overfitting."
      ],
      "metadata": {
        "id": "sw99MEV88Vam"
      }
    },
    {
      "cell_type": "code",
      "source": [
        "train_df, test_df = train_test_split(image_df, test_size = 0.20, shuffle = True, random_state = 1)\n",
        "print('Train data set dimension is :',train_df.shape)\n",
        "print('test data set dimension is :',test_df.shape)"
      ],
      "metadata": {
        "colab": {
          "base_uri": "https://localhost:8080/"
        },
        "id": "j0O58TmClqPe",
        "outputId": "ad39b59e-f4fc-46c1-ffde-d5a7f46147a0"
      },
      "execution_count": null,
      "outputs": [
        {
          "output_type": "stream",
          "name": "stdout",
          "text": [
            "Train data set dimension is : (604, 2)\n",
            "test data set dimension is : (151, 2)\n"
          ]
        }
      ]
    },
    {
      "cell_type": "code",
      "source": [
        "train_df, val_df = train_test_split(train_df, test_size = 0.20, shuffle = True, random_state = 1)\n",
        "print('Train data set dimension is :',train_df.shape)\n",
        "print('val data set dimension is :',val_df.shape)"
      ],
      "metadata": {
        "colab": {
          "base_uri": "https://localhost:8080/"
        },
        "id": "49WpkluwlAJP",
        "outputId": "aec4429c-ae0e-4f09-cd56-f894d9326f2e"
      },
      "execution_count": null,
      "outputs": [
        {
          "output_type": "stream",
          "name": "stdout",
          "text": [
            "Train data set dimension is : (483, 2)\n",
            "val data set dimension is : (121, 2)\n"
          ]
        }
      ]
    },
    {
      "cell_type": "code",
      "source": [
        "# Train dataset labels distribution\n",
        "train_df['Label'].value_counts()"
      ],
      "metadata": {
        "colab": {
          "base_uri": "https://localhost:8080/"
        },
        "id": "WFe-0AXp9Yfo",
        "outputId": "2f34e79d-160c-40ca-adcd-eda33a9b8f54"
      },
      "execution_count": null,
      "outputs": [
        {
          "output_type": "execute_result",
          "data": {
            "text/plain": [
              "nonhemorrhage    274\n",
              "hemorrhage       209\n",
              "Name: Label, dtype: int64"
            ]
          },
          "metadata": {},
          "execution_count": 17
        }
      ]
    },
    {
      "cell_type": "code",
      "source": [
        "# Validation dataset labels distribution\n",
        "val_df['Label'].value_counts()"
      ],
      "metadata": {
        "colab": {
          "base_uri": "https://localhost:8080/"
        },
        "id": "GR3blZULm6Vh",
        "outputId": "1ec3fa66-dbbc-47fa-9cee-2936e4819c1d"
      },
      "execution_count": null,
      "outputs": [
        {
          "output_type": "execute_result",
          "data": {
            "text/plain": [
              "nonhemorrhage    68\n",
              "hemorrhage       53\n",
              "Name: Label, dtype: int64"
            ]
          },
          "metadata": {},
          "execution_count": 18
        }
      ]
    },
    {
      "cell_type": "code",
      "source": [
        "# Test dataset labels distribution\n",
        "test_df['Label'].value_counts()"
      ],
      "metadata": {
        "colab": {
          "base_uri": "https://localhost:8080/"
        },
        "id": "1wv4o2Fr9bQe",
        "outputId": "ee2b1cb9-765e-43ae-90a0-cd0f1420ed41"
      },
      "execution_count": null,
      "outputs": [
        {
          "output_type": "execute_result",
          "data": {
            "text/plain": [
              "nonhemorrhage    95\n",
              "hemorrhage       56\n",
              "Name: Label, dtype: int64"
            ]
          },
          "metadata": {},
          "execution_count": 19
        }
      ]
    },
    {
      "cell_type": "code",
      "source": [
        "# Modify labels to ensure compatibility with future processes.\n",
        "train_df['Label'] = np.where(train_df['Label']=='nonhemorrhage', 0,1)\n",
        "val_df['Label'] = np.where(val_df['Label']=='nonhemorrhage', 0,1)\n",
        "test_df['Label'] = np.where(test_df['Label']=='nonhemorrhage', 0,1)\n"
      ],
      "metadata": {
        "id": "is7YHTwYorpy"
      },
      "execution_count": null,
      "outputs": []
    },
    {
      "cell_type": "markdown",
      "source": [
        "this code snippet undertakes the task of handling image data for machine learning purposes. It involves extracting images from their file paths, linking them with their corresponding labels, and categorizing them into distinct datasets tailored for training, validation, and testing phases. The images are treated as numerical arrays through the utilization of the plt.imread() function from the Matplotlib library. Concurrently, the associated labels are kept as straightforward arrays. This systematic arrangement establishes an optimal structure for seamlessly integrating the image and label data into a machine learning model."
      ],
      "metadata": {
        "id": "OoOpwX7B91hN"
      }
    },
    {
      "cell_type": "code",
      "source": [
        "# Images\n",
        "train_images = train_df.loc[:,'Filepath']\n",
        "train_labels = train_df.loc[:,'Label']\n",
        "\n",
        "val_images = val_df.loc[:,'Filepath']\n",
        "val_labels = val_df.loc[:,'Label']\n",
        "\n",
        "test_images = test_df.loc[:,'Filepath']\n",
        "test_labels = test_df.loc[:,'Label']\n",
        "\n",
        "# Train images\n",
        "x_train = []\n",
        "for i in train_images:\n",
        "    image = '' + i + ''\n",
        "    img = plt.imread(image)\n",
        "    x_train.append(img)\n",
        "\n",
        "# Train labels\n",
        "y_train=train_labels\n",
        "\n",
        "\n",
        "# Validation images\n",
        "x_val = []\n",
        "for i in val_images:\n",
        "    image = '' + i + ''\n",
        "    img = plt.imread(image)\n",
        "    x_val.append(img)\n",
        "\n",
        "# Validation labels\n",
        "y_val=val_labels\n",
        "\n",
        "\n",
        "# Test images\n",
        "x_test = []\n",
        "for i in test_images:\n",
        "    image = '' + i + ''\n",
        "    img = plt.imread(image)\n",
        "    x_test.append(img)\n",
        "\n",
        "# Test labels\n",
        "y_test=test_labels\n",
        "\n"
      ],
      "metadata": {
        "id": "unCMvrqH-pFM"
      },
      "execution_count": null,
      "outputs": []
    },
    {
      "cell_type": "markdown",
      "source": [
        "This code snippet is transforming the pixel values of the image data to a normalized scale, making it easier for the machine learning model to process the data effectively during training and evaluation."
      ],
      "metadata": {
        "id": "8ZtjEJFg-2ig"
      }
    },
    {
      "cell_type": "code",
      "source": [
        "# Normalize images\n",
        "x_train = np.array(x_train, dtype=\"float\") / 255.0\n",
        "x_val = np.array(x_val, dtype=\"float\") / 255.0\n",
        "x_test = np.array(x_test, dtype=\"float\") / 255.0"
      ],
      "metadata": {
        "id": "80HRHiezqw3u"
      },
      "execution_count": null,
      "outputs": []
    },
    {
      "cell_type": "code",
      "source": [
        "# Check shape of the splitted data\n",
        "print(x_train.shape)\n",
        "print(x_val.shape)\n",
        "print(x_test.shape)"
      ],
      "metadata": {
        "colab": {
          "base_uri": "https://localhost:8080/"
        },
        "id": "SV94Hkdljmu_",
        "outputId": "208ab4ca-9673-4e4a-ada9-6e2906d9d0b8"
      },
      "execution_count": null,
      "outputs": [
        {
          "output_type": "stream",
          "name": "stdout",
          "text": [
            "(483, 128, 128)\n",
            "(121, 128, 128)\n",
            "(151, 128, 128)\n"
          ]
        }
      ]
    },
    {
      "cell_type": "code",
      "source": [
        "# Check shape of the splitted labels\n",
        "print(y_train.shape)\n",
        "print(y_val.shape)\n",
        "print(y_test.shape)"
      ],
      "metadata": {
        "colab": {
          "base_uri": "https://localhost:8080/"
        },
        "id": "HWykQtduok7M",
        "outputId": "4dfb82df-f88d-4db1-8372-b47d0c26af68"
      },
      "execution_count": null,
      "outputs": [
        {
          "output_type": "stream",
          "name": "stdout",
          "text": [
            "(483,)\n",
            "(121,)\n",
            "(151,)\n"
          ]
        }
      ]
    },
    {
      "cell_type": "markdown",
      "source": [
        "### Data Augmentation\n",
        "Image augmentation is a powerful technique used in deep learning to enhance the diversity and quantity of training data. It involves applying various transformations to the original images, creating multiple transformed copies that differ in certain aspects. These transformations can include shifting, rotating, flipping, and more. The purpose of image augmentation is not to alter the target class of the image but to offer new perspectives on how the object appears in real life.\n",
        "\n",
        "If the value of height_shift_range or width_shift_range is a float number between 0 and 1, it indicates the percentage of the image's height or width to shift. For example, if height_shift_range=0.2, it means the image can be vertically shifted by up to 20% of its height. horizontal_flip parameter allows the images to be horizontally flipped. It means that the images are mirrored along the vertical axis. For example, if the image has a hemorrhage facing left, the horizontally flipped version of the image will have the hemorrhage facing right."
      ],
      "metadata": {
        "id": "xULRUFum_ouN"
      }
    },
    {
      "cell_type": "code",
      "source": [
        "# Augmentation\n",
        "train_datagen = ImageDataGenerator(\n",
        "    horizontal_flip = True,\n",
        "    width_shift_range = 0.20,\n",
        "    height_shift_range = 0.20,\n",
        "    validation_split = 0.20,)\n"
      ],
      "metadata": {
        "id": "WkhClkbOHnEL"
      },
      "execution_count": 79,
      "outputs": []
    },
    {
      "cell_type": "markdown",
      "source": [
        "This reshaping operation is essential to ensure that the image data is properly formatted for training and using a CNN model. It adds an extra dimension to represent the single channel (grayscale) of each image, allowing the data to be effectively processed by the CNN layers."
      ],
      "metadata": {
        "id": "6CYvhBFDAMZ7"
      }
    },
    {
      "cell_type": "code",
      "source": [
        "# Reshaping inputs\n",
        "x_train = x_train.reshape(483, 128, 128, 1)\n",
        "x_val = x_val.reshape(121, 128, 128, 1)\n",
        "x_test = x_test.reshape(151, 128, 128, 1)\n"
      ],
      "metadata": {
        "id": "j1qzual9c9zP"
      },
      "execution_count": null,
      "outputs": []
    },
    {
      "cell_type": "markdown",
      "source": [
        "## Neural Net Architecture"
      ],
      "metadata": {
        "id": "i71SLPdIArki"
      }
    },
    {
      "cell_type": "code",
      "source": [
        "# Define the model architecture\n",
        "input_shape = (Image_Height,Image_Width,Image_Channels)\n",
        "model = Sequential()\n",
        "model.add(Conv2D(32, kernel_size=(3, 3), activation='relu', input_shape=input_shape))\n",
        "model.add(MaxPooling2D(pool_size=(2, 2)))\n",
        "model.add(Conv2D(64, kernel_size=(3, 3), activation='relu'))\n",
        "model.add(MaxPooling2D(pool_size=(2, 2)))\n",
        "model.add(Flatten())\n",
        "model.add(Dense(256, activation='relu'))\n",
        "model.add(Dense(128, activation='relu'))\n",
        "model.add(Dense(1, activation='sigmoid'))\n",
        "\n",
        "# Compile the model\n",
        "model.compile(loss='binary_crossentropy',\n",
        "                optimizer='adam',\n",
        "                metrics=['accuracy',AUC()])\n",
        "model.summary()"
      ],
      "metadata": {
        "colab": {
          "base_uri": "https://localhost:8080/"
        },
        "id": "_40hJF5OAnHa",
        "outputId": "c579819a-3c06-4303-ef81-ad66a48c9c5e"
      },
      "execution_count": null,
      "outputs": [
        {
          "output_type": "stream",
          "name": "stdout",
          "text": [
            "Model: \"sequential\"\n",
            "_________________________________________________________________\n",
            " Layer (type)                Output Shape              Param #   \n",
            "=================================================================\n",
            " conv2d (Conv2D)             (None, 126, 126, 32)      320       \n",
            "                                                                 \n",
            " max_pooling2d (MaxPooling2D  (None, 63, 63, 32)       0         \n",
            " )                                                               \n",
            "                                                                 \n",
            " conv2d_1 (Conv2D)           (None, 61, 61, 64)        18496     \n",
            "                                                                 \n",
            " max_pooling2d_1 (MaxPooling  (None, 30, 30, 64)       0         \n",
            " 2D)                                                             \n",
            "                                                                 \n",
            " flatten (Flatten)           (None, 57600)             0         \n",
            "                                                                 \n",
            " dense (Dense)               (None, 256)               14745856  \n",
            "                                                                 \n",
            " dense_1 (Dense)             (None, 128)               32896     \n",
            "                                                                 \n",
            " dense_2 (Dense)             (None, 1)                 129       \n",
            "                                                                 \n",
            "=================================================================\n",
            "Total params: 14,797,697\n",
            "Trainable params: 14,797,697\n",
            "Non-trainable params: 0\n",
            "_________________________________________________________________\n"
          ]
        }
      ]
    },
    {
      "cell_type": "markdown",
      "source": [
        "## Model Training, 5 Fold Cross Validtion\n",
        "This code snippet implements a k-fold cross-validation process for training and evaluating the model using the 5 folds. It provides a robust assessment of the model's performance on different subsets of the training data and reports the average accuracy and loss across all folds. Using multiple train-validation splits helps in identifying whether the model's performance is consistent across different subsets of the data. It reduces the risk of overfitting to a specific train-test split and gives us a more accurate estimate of how well the model generalizes to unseen data."
      ],
      "metadata": {
        "id": "o5_PLpzIA-JM"
      }
    },
    {
      "cell_type": "code",
      "source": [
        "# Define the K-fold Cross Validator\n",
        "kfold = KFold(n_splits=5, shuffle=True)\n",
        "# Define per-fold score containers\n",
        "acc_per_fold = []\n",
        "loss_per_fold = []\n",
        "\n",
        "# K-fold Cross Validation model evaluation\n",
        "fold_no = 1\n",
        "for train, test in kfold.split(x_train,y_train):\n",
        "  input_shape = (128,128,1)\n",
        "  model = Sequential()\n",
        "  model.add(Conv2D(32, kernel_size=(3, 3), activation='relu', input_shape=input_shape))\n",
        "  model.add(MaxPooling2D(pool_size=(2, 2)))\n",
        "  model.add(Conv2D(64, kernel_size=(3, 3), activation='relu'))\n",
        "  model.add(MaxPooling2D(pool_size=(2, 2)))\n",
        "  model.add(Flatten())\n",
        "  model.add(Dense(256, activation='relu'))\n",
        "  model.add(Dense(128, activation='relu'))\n",
        "  model.add(Dense(1, activation='sigmoid'))\n",
        "\n",
        "  # Compile the model\n",
        "  model.compile(loss='binary_crossentropy',\n",
        "                optimizer='adam',\n",
        "                metrics=['accuracy',AUC()])\n",
        "  # Generate a print\n",
        "  print('------------------------------------------------------------------------')\n",
        "  print(f'Training for fold {fold_no} ...')\n",
        "\n",
        "  # Fit data to model\n",
        "  history = model.fit(train_datagen.flow(x_train, y_train,\n",
        "              batch_size=20,\n",
        "              seed =27,\n",
        "             shuffle=False),\n",
        "              epochs=10,\n",
        "              verbose=1,\n",
        "              validation_data=(x_val,y_val),\n",
        "              callbacks = tf.keras.callbacks.EarlyStopping(\n",
        "            monitor = 'val_loss',\n",
        "            patience = 6,\n",
        "            restore_best_weights = True))\n",
        "\n",
        "\n",
        "  # Generate generalization metrics\n",
        "  scores = model.evaluate(x_val, y_val,verbose=0)\n",
        "  print(f'Score for fold {fold_no}: {model.metrics_names[0]} of {scores[0]}; {model.metrics_names[1]} of {scores[1]*100}%')\n",
        "  acc_per_fold.append(scores[1] * 100)\n",
        "  loss_per_fold.append(scores[0])\n",
        "\n",
        "  # Increase fold number\n",
        "  fold_no = fold_no + 1\n",
        "\n",
        "# == Provide average scores ==\n",
        "print('------------------------------------------------------------------------')\n",
        "print('Score per fold')\n",
        "for i in range(0, len(acc_per_fold)):\n",
        "  print('------------------------------------------------------------------------')\n",
        "  print(f'> Fold {i+1} - Loss: {loss_per_fold[i]} - Accuracy: {acc_per_fold[i]}%')\n",
        "print('------------------------------------------------------------------------')\n",
        "print('Average scores for all folds:')\n",
        "print(f'> Accuracy: {np.mean(acc_per_fold)} (+- {np.std(acc_per_fold)})')\n",
        "print(f'> Loss: {np.mean(loss_per_fold)}')\n",
        "print('------------------------------------------------------------------------')\n",
        "\n",
        "\n"
      ],
      "metadata": {
        "id": "WYshcdvM-lQk",
        "colab": {
          "base_uri": "https://localhost:8080/"
        },
        "outputId": "8e68d8b2-4f95-4895-98ec-b532d82f2317"
      },
      "execution_count": 80,
      "outputs": [
        {
          "output_type": "stream",
          "name": "stdout",
          "text": [
            "------------------------------------------------------------------------\n",
            "Training for fold 1 ...\n",
            "Epoch 1/10\n",
            "25/25 [==============================] - 5s 154ms/step - loss: 0.5728 - accuracy: 0.6977 - auc_31: 0.7639 - val_loss: 0.5086 - val_accuracy: 0.7025 - val_auc_31: 0.8327\n",
            "Epoch 2/10\n",
            "25/25 [==============================] - 4s 142ms/step - loss: 0.4542 - accuracy: 0.8116 - auc_31: 0.8646 - val_loss: 0.4647 - val_accuracy: 0.7521 - val_auc_31: 0.8797\n",
            "Epoch 3/10\n",
            "25/25 [==============================] - 4s 155ms/step - loss: 0.4076 - accuracy: 0.8054 - auc_31: 0.8948 - val_loss: 0.4038 - val_accuracy: 0.8099 - val_auc_31: 0.8993\n",
            "Epoch 4/10\n",
            "25/25 [==============================] - 4s 146ms/step - loss: 0.3612 - accuracy: 0.8427 - auc_31: 0.9180 - val_loss: 0.4009 - val_accuracy: 0.8182 - val_auc_31: 0.9018\n",
            "Epoch 5/10\n",
            "25/25 [==============================] - 4s 142ms/step - loss: 0.3035 - accuracy: 0.8841 - auc_31: 0.9461 - val_loss: 0.3585 - val_accuracy: 0.8099 - val_auc_31: 0.9190\n",
            "Epoch 6/10\n",
            "25/25 [==============================] - 4s 152ms/step - loss: 0.2430 - accuracy: 0.9006 - auc_31: 0.9669 - val_loss: 0.4084 - val_accuracy: 0.8099 - val_auc_31: 0.9234\n",
            "Epoch 7/10\n",
            "25/25 [==============================] - 4s 149ms/step - loss: 0.3065 - accuracy: 0.8737 - auc_31: 0.9415 - val_loss: 0.3557 - val_accuracy: 0.8347 - val_auc_31: 0.9245\n",
            "Epoch 8/10\n",
            "25/25 [==============================] - 4s 154ms/step - loss: 0.2132 - accuracy: 0.9234 - auc_31: 0.9755 - val_loss: 0.4471 - val_accuracy: 0.7686 - val_auc_31: 0.9150\n",
            "Epoch 9/10\n",
            "25/25 [==============================] - 4s 147ms/step - loss: 0.2029 - accuracy: 0.9213 - auc_31: 0.9749 - val_loss: 0.3542 - val_accuracy: 0.8347 - val_auc_31: 0.9262\n",
            "Epoch 10/10\n",
            "25/25 [==============================] - 4s 146ms/step - loss: 0.1603 - accuracy: 0.9379 - auc_31: 0.9873 - val_loss: 0.4192 - val_accuracy: 0.8347 - val_auc_31: 0.9211\n",
            "Score for fold 1: loss of 0.4191930294036865; accuracy of 83.47107172012329%\n",
            "------------------------------------------------------------------------\n",
            "Training for fold 2 ...\n",
            "Epoch 1/10\n",
            "25/25 [==============================] - 5s 167ms/step - loss: 0.5662 - accuracy: 0.6749 - auc_32: 0.7639 - val_loss: 0.5168 - val_accuracy: 0.7438 - val_auc_32: 0.8300\n",
            "Epoch 2/10\n",
            "25/25 [==============================] - 4s 148ms/step - loss: 0.4576 - accuracy: 0.7723 - auc_32: 0.8678 - val_loss: 0.5072 - val_accuracy: 0.7273 - val_auc_32: 0.8718\n",
            "Epoch 3/10\n",
            "25/25 [==============================] - 4s 146ms/step - loss: 0.4066 - accuracy: 0.8116 - auc_32: 0.8956 - val_loss: 0.4157 - val_accuracy: 0.8430 - val_auc_32: 0.8892\n",
            "Epoch 4/10\n",
            "25/25 [==============================] - 4s 147ms/step - loss: 0.3480 - accuracy: 0.8613 - auc_32: 0.9282 - val_loss: 0.3724 - val_accuracy: 0.8430 - val_auc_32: 0.9101\n",
            "Epoch 5/10\n",
            "25/25 [==============================] - 4s 146ms/step - loss: 0.3042 - accuracy: 0.8613 - auc_32: 0.9443 - val_loss: 0.3549 - val_accuracy: 0.8347 - val_auc_32: 0.9188\n",
            "Epoch 6/10\n",
            "25/25 [==============================] - 4s 147ms/step - loss: 0.2514 - accuracy: 0.8903 - auc_32: 0.9604 - val_loss: 0.4083 - val_accuracy: 0.7934 - val_auc_32: 0.9175\n",
            "Epoch 7/10\n",
            "25/25 [==============================] - 4s 147ms/step - loss: 0.2228 - accuracy: 0.9130 - auc_32: 0.9743 - val_loss: 0.3601 - val_accuracy: 0.8430 - val_auc_32: 0.9230\n",
            "Epoch 8/10\n",
            "25/25 [==============================] - 4s 152ms/step - loss: 0.1984 - accuracy: 0.9255 - auc_32: 0.9751 - val_loss: 0.3707 - val_accuracy: 0.8512 - val_auc_32: 0.9168\n",
            "Epoch 9/10\n",
            "25/25 [==============================] - 4s 142ms/step - loss: 0.1713 - accuracy: 0.9358 - auc_32: 0.9833 - val_loss: 0.3736 - val_accuracy: 0.8347 - val_auc_32: 0.9269\n",
            "Epoch 10/10\n",
            "25/25 [==============================] - 4s 151ms/step - loss: 0.1720 - accuracy: 0.9337 - auc_32: 0.9834 - val_loss: 0.3822 - val_accuracy: 0.8347 - val_auc_32: 0.9222\n",
            "Score for fold 2: loss of 0.3821781873703003; accuracy of 83.47107172012329%\n",
            "------------------------------------------------------------------------\n",
            "Training for fold 3 ...\n",
            "Epoch 1/10\n",
            "25/25 [==============================] - 5s 154ms/step - loss: 0.5783 - accuracy: 0.6563 - auc_33: 0.7674 - val_loss: 0.5117 - val_accuracy: 0.7190 - val_auc_33: 0.8214\n",
            "Epoch 2/10\n",
            "25/25 [==============================] - 4s 148ms/step - loss: 0.4573 - accuracy: 0.7805 - auc_33: 0.8600 - val_loss: 0.4795 - val_accuracy: 0.8182 - val_auc_33: 0.8654\n",
            "Epoch 3/10\n",
            "25/25 [==============================] - 4s 155ms/step - loss: 0.4195 - accuracy: 0.8157 - auc_33: 0.8903 - val_loss: 0.4640 - val_accuracy: 0.7769 - val_auc_33: 0.8779\n",
            "Epoch 4/10\n",
            "25/25 [==============================] - 4s 151ms/step - loss: 0.3334 - accuracy: 0.8509 - auc_33: 0.9325 - val_loss: 0.4098 - val_accuracy: 0.7934 - val_auc_33: 0.8944\n",
            "Epoch 5/10\n",
            "25/25 [==============================] - 4s 150ms/step - loss: 0.2829 - accuracy: 0.8758 - auc_33: 0.9521 - val_loss: 0.3728 - val_accuracy: 0.8264 - val_auc_33: 0.9087\n",
            "Epoch 6/10\n",
            "25/25 [==============================] - 4s 147ms/step - loss: 0.2570 - accuracy: 0.9006 - auc_33: 0.9624 - val_loss: 0.3754 - val_accuracy: 0.8182 - val_auc_33: 0.9145\n",
            "Epoch 7/10\n",
            "25/25 [==============================] - 4s 151ms/step - loss: 0.2081 - accuracy: 0.9275 - auc_33: 0.9768 - val_loss: 0.3808 - val_accuracy: 0.8347 - val_auc_33: 0.9125\n",
            "Epoch 8/10\n",
            "25/25 [==============================] - 4s 149ms/step - loss: 0.1718 - accuracy: 0.9420 - auc_33: 0.9850 - val_loss: 0.4258 - val_accuracy: 0.8182 - val_auc_33: 0.9044\n",
            "Epoch 9/10\n",
            "25/25 [==============================] - 4s 145ms/step - loss: 0.1592 - accuracy: 0.9400 - auc_33: 0.9855 - val_loss: 0.3707 - val_accuracy: 0.8430 - val_auc_33: 0.9162\n",
            "Epoch 10/10\n",
            "25/25 [==============================] - 4s 152ms/step - loss: 0.1476 - accuracy: 0.9420 - auc_33: 0.9885 - val_loss: 0.3879 - val_accuracy: 0.8347 - val_auc_33: 0.9193\n",
            "Score for fold 3: loss of 0.38789549469947815; accuracy of 83.47107172012329%\n",
            "------------------------------------------------------------------------\n",
            "Training for fold 4 ...\n",
            "Epoch 1/10\n",
            "25/25 [==============================] - 5s 151ms/step - loss: 0.5789 - accuracy: 0.6791 - auc_34: 0.7578 - val_loss: 0.5463 - val_accuracy: 0.7025 - val_auc_34: 0.8230\n",
            "Epoch 2/10\n",
            "25/25 [==============================] - 4s 146ms/step - loss: 0.4662 - accuracy: 0.7723 - auc_34: 0.8541 - val_loss: 0.4690 - val_accuracy: 0.7686 - val_auc_34: 0.8653\n",
            "Epoch 3/10\n",
            "25/25 [==============================] - 4s 160ms/step - loss: 0.3867 - accuracy: 0.8240 - auc_34: 0.9079 - val_loss: 0.4228 - val_accuracy: 0.8099 - val_auc_34: 0.8946\n",
            "Epoch 4/10\n",
            "25/25 [==============================] - 4s 142ms/step - loss: 0.3536 - accuracy: 0.8571 - auc_34: 0.9242 - val_loss: 0.3917 - val_accuracy: 0.8347 - val_auc_34: 0.9032\n",
            "Epoch 5/10\n",
            "25/25 [==============================] - 4s 150ms/step - loss: 0.2955 - accuracy: 0.8737 - auc_34: 0.9442 - val_loss: 0.4340 - val_accuracy: 0.8182 - val_auc_34: 0.9008\n",
            "Epoch 6/10\n",
            "25/25 [==============================] - 4s 154ms/step - loss: 0.2640 - accuracy: 0.8861 - auc_34: 0.9593 - val_loss: 0.3871 - val_accuracy: 0.8264 - val_auc_34: 0.9184\n",
            "Epoch 7/10\n",
            "25/25 [==============================] - 4s 146ms/step - loss: 0.2426 - accuracy: 0.9068 - auc_34: 0.9637 - val_loss: 0.3355 - val_accuracy: 0.8264 - val_auc_34: 0.9317\n",
            "Epoch 8/10\n",
            "25/25 [==============================] - 4s 153ms/step - loss: 0.2098 - accuracy: 0.9213 - auc_34: 0.9753 - val_loss: 0.3756 - val_accuracy: 0.8347 - val_auc_34: 0.9281\n",
            "Epoch 9/10\n",
            "25/25 [==============================] - 4s 149ms/step - loss: 0.1701 - accuracy: 0.9400 - auc_34: 0.9832 - val_loss: 0.3605 - val_accuracy: 0.8264 - val_auc_34: 0.9227\n",
            "Epoch 10/10\n",
            "25/25 [==============================] - 4s 144ms/step - loss: 0.1471 - accuracy: 0.9524 - auc_34: 0.9893 - val_loss: 0.4024 - val_accuracy: 0.8347 - val_auc_34: 0.9259\n",
            "Score for fold 4: loss of 0.40237361192703247; accuracy of 83.47107172012329%\n",
            "------------------------------------------------------------------------\n",
            "Training for fold 5 ...\n",
            "Epoch 1/10\n",
            "25/25 [==============================] - 5s 151ms/step - loss: 0.5604 - accuracy: 0.7101 - auc_35: 0.7784 - val_loss: 0.5456 - val_accuracy: 0.7355 - val_auc_35: 0.8296\n",
            "Epoch 2/10\n",
            "25/25 [==============================] - 4s 146ms/step - loss: 0.4701 - accuracy: 0.7785 - auc_35: 0.8595 - val_loss: 0.5525 - val_accuracy: 0.7190 - val_auc_35: 0.8635\n",
            "Epoch 3/10\n",
            "25/25 [==============================] - 4s 152ms/step - loss: 0.4044 - accuracy: 0.8095 - auc_35: 0.8934 - val_loss: 0.4824 - val_accuracy: 0.7686 - val_auc_35: 0.8624\n",
            "Epoch 4/10\n",
            "25/25 [==============================] - 4s 145ms/step - loss: 0.3771 - accuracy: 0.8385 - auc_35: 0.9125 - val_loss: 0.4243 - val_accuracy: 0.8099 - val_auc_35: 0.8868\n",
            "Epoch 5/10\n",
            "25/25 [==============================] - 4s 152ms/step - loss: 0.3197 - accuracy: 0.8613 - auc_35: 0.9366 - val_loss: 0.3683 - val_accuracy: 0.8182 - val_auc_35: 0.9147\n",
            "Epoch 6/10\n",
            "25/25 [==============================] - 4s 143ms/step - loss: 0.2461 - accuracy: 0.9027 - auc_35: 0.9651 - val_loss: 0.3585 - val_accuracy: 0.8430 - val_auc_35: 0.9269\n",
            "Epoch 7/10\n",
            "25/25 [==============================] - 4s 146ms/step - loss: 0.2496 - accuracy: 0.9068 - auc_35: 0.9624 - val_loss: 0.3402 - val_accuracy: 0.8430 - val_auc_35: 0.9220\n",
            "Epoch 8/10\n",
            "25/25 [==============================] - 4s 146ms/step - loss: 0.2331 - accuracy: 0.9151 - auc_35: 0.9683 - val_loss: 0.4021 - val_accuracy: 0.7934 - val_auc_35: 0.9145\n",
            "Epoch 9/10\n",
            "25/25 [==============================] - 4s 151ms/step - loss: 0.1898 - accuracy: 0.9234 - auc_35: 0.9799 - val_loss: 0.3650 - val_accuracy: 0.8347 - val_auc_35: 0.9236\n",
            "Epoch 10/10\n",
            "25/25 [==============================] - 4s 157ms/step - loss: 0.1558 - accuracy: 0.9482 - auc_35: 0.9869 - val_loss: 0.4021 - val_accuracy: 0.8347 - val_auc_35: 0.9215\n",
            "Score for fold 5: loss of 0.40209537744522095; accuracy of 83.47107172012329%\n",
            "------------------------------------------------------------------------\n",
            "Score per fold\n",
            "------------------------------------------------------------------------\n",
            "> Fold 1 - Loss: 0.4191930294036865 - Accuracy: 83.47107172012329%\n",
            "------------------------------------------------------------------------\n",
            "> Fold 2 - Loss: 0.3821781873703003 - Accuracy: 83.47107172012329%\n",
            "------------------------------------------------------------------------\n",
            "> Fold 3 - Loss: 0.38789549469947815 - Accuracy: 83.47107172012329%\n",
            "------------------------------------------------------------------------\n",
            "> Fold 4 - Loss: 0.40237361192703247 - Accuracy: 83.47107172012329%\n",
            "------------------------------------------------------------------------\n",
            "> Fold 5 - Loss: 0.40209537744522095 - Accuracy: 83.47107172012329%\n",
            "------------------------------------------------------------------------\n",
            "Average scores for all folds:\n",
            "> Accuracy: 83.47107172012329 (+- 0.0)\n",
            "> Loss: 0.3987471401691437\n",
            "------------------------------------------------------------------------\n"
          ]
        }
      ]
    },
    {
      "cell_type": "markdown",
      "source": [
        "## Training/Validation Accuracy and Loss"
      ],
      "metadata": {
        "id": "WBGj4wqoBFjh"
      }
    },
    {
      "cell_type": "code",
      "source": [
        "plt.plot(history.history['accuracy'])\n",
        "plt.plot(history.history['val_accuracy'])\n",
        "plt.title('model accuracy')\n",
        "plt.ylabel('accuracy')\n",
        "plt.xlabel('epoch')\n",
        "plt.legend(['train', 'val'], loc='upper left')\n",
        "plt.show()\n",
        "\n",
        "plt.plot(history.history['loss'])\n",
        "plt.plot(history.history['val_loss'])\n",
        "plt.title('model loss')\n",
        "plt.ylabel('loss')\n",
        "plt.xlabel('epoch')\n",
        "plt.legend(['train', 'val'], loc='upper left')\n",
        "plt.show()\n",
        "\n"
      ],
      "metadata": {
        "colab": {
          "base_uri": "https://localhost:8080/",
          "height": 927
        },
        "id": "rPnym9eBRnIk",
        "outputId": "04642413-86dc-4622-b719-fcc64ca7414a"
      },
      "execution_count": 92,
      "outputs": [
        {
          "output_type": "display_data",
          "data": {
            "text/plain": [
              "<Figure size 640x480 with 1 Axes>"
            ],
            "image/png": "[encoded data removed]"
          },
          "metadata": {}
        },
        {
          "output_type": "display_data",
          "data": {
            "text/plain": [
              "<Figure size 640x480 with 1 Axes>"
            ],
            "image/png": "[encoded data removed]"
          },
          "metadata": {}
        }
      ]
    },
    {
      "cell_type": "markdown",
      "source": [
        "## Test Data Evaluation\n",
        "In the following steps, the trained model will be utilized to classify the images in the test set. Subsequently, we will showcase the results through the use of a confusion matrix and a receiver operating characteristic (ROC) curve. With the use of this code, we take the continuous predictions generated by the model and apply a threshold of 0.5. This thresholding process transforms the predictions into binary class predictions. When a prediction is above 0.5, it's categorized as belonging to the positive class (hemmorhage); otherwise, it's categorized as the negative class (non-hemorrhage)."
      ],
      "metadata": {
        "id": "D67y6Uh4BL4S"
      }
    },
    {
      "cell_type": "code",
      "source": [
        "# Prediction on test data\n",
        "prediction_test=model.predict(x_test)\n",
        "y_pred_test = np.where(prediction_test > 0.5, 1, 0)"
      ],
      "metadata": {
        "colab": {
          "base_uri": "https://localhost:8080/"
        },
        "id": "nj_znLToBip8",
        "outputId": "116cff7b-0271-4c53-e3c0-03e8972dccdf"
      },
      "execution_count": 93,
      "outputs": [
        {
          "output_type": "stream",
          "name": "stdout",
          "text": [
            "5/5 [==============================] - 0s 51ms/step\n"
          ]
        }
      ]
    },
    {
      "cell_type": "markdown",
      "source": [
        "### Confusion Matrix\n",
        "A confusion matrix is a table that summarizes the performance of a classification model. It shows the number of true positive, true negative, false positive, and false negative predictions. This helps in assessing how well the model is classifying instances for each class. From the confusion matrix, various metrics like accuracy, precision, recall, and F1-score can be calculated to evaluate the model's performance."
      ],
      "metadata": {
        "id": "Dm7V_-5dBluE"
      }
    },
    {
      "cell_type": "code",
      "source": [
        "# Define the true class for each image in the test data\n",
        "y_true_test=y_test\n",
        "\n",
        "# Confusion matrix\n",
        "cm_test=confusion_matrix(y_true_test,y_pred_test)\n",
        "print(cm_test)\n",
        "sns.heatmap(cm_test,annot=True).set_title('Confusion Matrix of Model for Test Data')\n",
        "print(classification_report(y_true_test,y_pred_test))"
      ],
      "metadata": {
        "colab": {
          "base_uri": "https://localhost:8080/",
          "height": 643
        },
        "id": "jwrSUXjN49q0",
        "outputId": "7f069438-016a-435e-df4d-db5eef2f9044"
      },
      "execution_count": 94,
      "outputs": [
        {
          "output_type": "stream",
          "name": "stdout",
          "text": [
            "[[81 14]\n",
            " [ 9 47]]\n",
            "              precision    recall  f1-score   support\n",
            "\n",
            "           0       0.90      0.85      0.88        95\n",
            "           1       0.77      0.84      0.80        56\n",
            "\n",
            "    accuracy                           0.85       151\n",
            "   macro avg       0.84      0.85      0.84       151\n",
            "weighted avg       0.85      0.85      0.85       151\n",
            "\n"
          ]
        },
        {
          "output_type": "display_data",
          "data": {
            "text/plain": [
              "<Figure size 640x480 with 2 Axes>"
            ],
            "image/png": "[encoded data removed]"
          },
          "metadata": {}
        }
      ]
    },
    {
      "cell_type": "markdown",
      "source": [
        "### ROC Curve\n",
        "The ROC curve is a graphical representation that shows the trade-off between a binary classification model's ability to correctly classify positive instances (sensitivity) and its tendency to incorrectly classify negative instances as positive (1 - specificity). It's a way to visualize and evaluate a model's performance at different classification thresholds. The area under the ROC curve (AUC-ROC) summarizes the overall performance: higher values indicate better performance, with 1 being ideal and 0.5 indicating random guessing."
      ],
      "metadata": {
        "id": "Ko2qg6abBr_K"
      }
    },
    {
      "cell_type": "code",
      "source": [
        "# ROC Curve of Model for Test Data\n",
        "fpr, tpr,_ = roc_curve(y_true_test, y_pred_test)\n",
        "auc = roc_auc_score(y_true_test, y_pred_test)\n",
        "\n",
        "plt.plot(fpr,tpr,label='Test set (area = {:.2f})'.format(auc))\n",
        "plt.ylabel('True Positive Rate')\n",
        "plt.xlabel('False Positive Rate')\n",
        "plt.legend(loc=4)\n",
        "plt.title('ROC Curve of Model for Test Data')\n",
        "plt.show()"
      ],
      "metadata": {
        "colab": {
          "base_uri": "https://localhost:8080/",
          "height": 472
        },
        "id": "gKCmvu62cGzy",
        "outputId": "146032f0-df87-44b9-960b-f3d0b8933318"
      },
      "execution_count": 95,
      "outputs": [
        {
          "output_type": "display_data",
          "data": {
            "text/plain": [
              "<Figure size 640x480 with 1 Axes>"
            ],
            "image/png": "[encoded data removed]"
          },
          "metadata": {}
        }
      ]
    },
    {
      "cell_type": "markdown",
      "source": [
        "### Applying Model on Vlidation Data"
      ],
      "metadata": {
        "id": "w-86EwXiBxo7"
      }
    },
    {
      "cell_type": "code",
      "source": [
        "# Prediction on validation data\n",
        "prediction_val=model.predict(x_val)\n",
        "y_pred_val = np.where(prediction_val > 0.5, 1, 0)\n",
        "\n",
        "# Define the true class for each image in the validation data\n",
        "y_true_val=y_val\n",
        "\n",
        "# Confusion matrix\n",
        "cm_val=confusion_matrix(y_true_val,y_pred_val)\n",
        "print(cm_val)\n",
        "sns.heatmap(cm_val,annot=True).set_title('Confusion Matrix of Model for Validation Data')\n",
        "print(classification_report(y_true_val,y_pred_val))"
      ],
      "metadata": {
        "colab": {
          "base_uri": "https://localhost:8080/",
          "height": 660
        },
        "id": "9MCP5Bc-BcDq",
        "outputId": "f06a79a6-ebb1-4a41-d93e-a494cdc12ec3"
      },
      "execution_count": 96,
      "outputs": [
        {
          "output_type": "stream",
          "name": "stdout",
          "text": [
            "4/4 [==============================] - 0s 52ms/step\n",
            "[[58 10]\n",
            " [10 43]]\n",
            "              precision    recall  f1-score   support\n",
            "\n",
            "           0       0.85      0.85      0.85        68\n",
            "           1       0.81      0.81      0.81        53\n",
            "\n",
            "    accuracy                           0.83       121\n",
            "   macro avg       0.83      0.83      0.83       121\n",
            "weighted avg       0.83      0.83      0.83       121\n",
            "\n"
          ]
        },
        {
          "output_type": "display_data",
          "data": {
            "text/plain": [
              "<Figure size 640x480 with 2 Axes>"
            ],
            "image/png": "[encoded data removed]"
          },
          "metadata": {}
        }
      ]
    },
    {
      "cell_type": "markdown",
      "source": [
        "### Applying Model on Train Data"
      ],
      "metadata": {
        "id": "FDPhESFDB8VS"
      }
    },
    {
      "cell_type": "code",
      "source": [
        "# Prediction on train data\n",
        "prediction_train=model.predict(x_train)\n",
        "y_pred_train = np.where(prediction_train > 0.5, 1, 0)\n",
        "\n",
        "# Define the true class for each image in the train data\n",
        "y_true_train=y_train\n",
        "\n",
        "# Confusion matrix\n",
        "cm_train=confusion_matrix(y_true_train,y_pred_train)\n",
        "print(cm_train)\n",
        "sns.heatmap(cm_train,annot=True).set_title('Confusion Matrix of Model for Train Data')\n",
        "print(classification_report(y_true_train,y_pred_train))"
      ],
      "metadata": {
        "colab": {
          "base_uri": "https://localhost:8080/",
          "height": 660
        },
        "id": "cMUC9nNJDltd",
        "outputId": "b831844c-ebee-4c04-d93f-c886e113c388"
      },
      "execution_count": 97,
      "outputs": [
        {
          "output_type": "stream",
          "name": "stdout",
          "text": [
            "16/16 [==============================] - 1s 45ms/step\n",
            "[[265   9]\n",
            " [  8 201]]\n",
            "              precision    recall  f1-score   support\n",
            "\n",
            "           0       0.97      0.97      0.97       274\n",
            "           1       0.96      0.96      0.96       209\n",
            "\n",
            "    accuracy                           0.96       483\n",
            "   macro avg       0.96      0.96      0.96       483\n",
            "weighted avg       0.96      0.96      0.96       483\n",
            "\n"
          ]
        },
        {
          "output_type": "display_data",
          "data": {
            "text/plain": [
              "<Figure size 640x480 with 2 Axes>"
            ],
            "image/png": "[encoded data removed]"
          },
          "metadata": {}
        }
      ]
    },
    {
      "cell_type": "code",
      "source": [
        "# Roc Comparison\n",
        "plt.figure().clf()\n",
        "fpr_keras, tpr_keras, thresholds_keras = roc_curve(y_true_train, y_pred_train)\n",
        "auc1 = roc_auc_score(y_true_train, y_pred_train)\n",
        "plt.plot(fpr_keras, tpr_keras, label='Train set (area = {:.3f})'.format(auc1))\n",
        "\n",
        "fpr_keras, tpr_keras, thresholds_keras = roc_curve(y_true_val, y_pred_val)\n",
        "auc2 = roc_auc_score(y_true_val, y_pred_val)\n",
        "plt.plot(fpr_keras, tpr_keras, label='Validation set (area = {:.3f})'.format(auc2))\n",
        "\n",
        "fpr_keras, tpr_keras, thresholds_keras = roc_curve(y_true_test, y_pred_test)\n",
        "auc3 = roc_auc_score(y_true_test, y_pred_test)\n",
        "plt.plot(fpr_keras, tpr_keras, label='Test (area = {:.3f})'.format(auc3))\n",
        "\n",
        "plt.plot([0, 1], [0, 1], linestyle='--', lw=2, color='r', label='Random guess')\n",
        "plt.title(\"ROC curve comparison\")\n",
        "plt.legend(loc=0)"
      ],
      "metadata": {
        "colab": {
          "base_uri": "https://localhost:8080/",
          "height": 469
        },
        "id": "ga1NFrJOCmVR",
        "outputId": "7136b3e6-3f2e-4dce-b207-0241c8e2e545"
      },
      "execution_count": 98,
      "outputs": [
        {
          "output_type": "execute_result",
          "data": {
            "text/plain": [
              "<matplotlib.legend.Legend at 0x788c704dd360>"
            ]
          },
          "metadata": {},
          "execution_count": 98
        },
        {
          "output_type": "display_data",
          "data": {
            "text/plain": [
              "<Figure size 640x480 with 1 Axes>"
            ],
            "image/png": "[encoded data removed]"
          },
          "metadata": {}
        }
      ]
    },
    {
      "cell_type": "markdown",
      "source": [
        "### Bibliography"
      ],
      "metadata": {
        "id": "WYNyeJxtCM-E"
      }
    },
    {
      "cell_type": "markdown",
      "source": [
        "Bhandari, A. (2023). Image Augmentation on the fly using Keras ImageDataGenerator! analytics vidhya.\n",
        "https://www.analyticsvidhya.com/blog/2020/08/image-augmentation-on-the-fly-using-keras-imagedatagenerator/\n",
        "\n",
        "Versloot, C.(2022). *how to use k-fold cross validation with keras*.\n",
        "github. Retrieved August 12, 2023, from https://github.com/christianversloot/machine-learning-articles/blob/main/how-to-use-k-fold-cross-validation-with-keras.md\n",
        "\n",
        "\n"
      ],
      "metadata": {
        "id": "bfs0nPvNCRHJ"
      }
    }
  ]
}